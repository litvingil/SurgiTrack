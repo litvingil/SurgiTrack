{
 "cells": [
  {
   "cell_type": "code",
   "execution_count": 31,
   "metadata": {},
   "outputs": [],
   "source": [
    "import numpy as np\n",
    "from sklearn.cluster import AgglomerativeClustering\n",
    "import os\n",
    "\n",
    "ground_truth = [0,1,2,3,1,1,1,1,4,1,4,2,3,2,1,1,3,3,1,2,2]\n",
    "#camera 1 = [1,3,4,5,6,7,8,9,10,11,14,16,17,18,20,21] real\n",
    "#camera 1 = [1,2,2,2,2,1,3,3, 1, 1, 1, 2, 1, 2, 0, 0] clusterd\n",
    "camera_1_dict = {0:[20,21],\n",
    "                 1:[1,7,10,11,14,17],\n",
    "                 2:[3,4,5,6,16,18],\n",
    "                 3:[8,9]\n",
    "                 }\n",
    "#camera 2 = [1,2,5,6,7,8,12,13,14,16,20,21,23,24,25,29,31,34,35,36,38,39,44,47,49,53,54,55,56,57,58,59,61] real\n",
    "#camera 2 = [0,1,2,3,1,3, 4, 1, 4, 5, 5, 1, 1, 0, 3, 1, 5, 5, 4, 5, 1, 1, 0, 1, 0, 1, 0, 5, 1, 0, 0, 0, 0] clusterd\n",
    "camera_2_dict = {0:[1,24,44,49,54,57,58,59,61],\n",
    "                 1:[2,7,13,21,23,29,38,39,47,53,56],\n",
    "                 2:[5],\n",
    "                 3:[6,8,25],\n",
    "                 4:[12,14,35],\n",
    "                 5:[16,20,31,34,36,55]\n",
    "                 }\n",
    "# ground_truth = [1,0,2,3,1,1,4,4,1 ,1,1 ,0 ,1 , 0,4 ,0 ]"
   ]
  },
  {
   "cell_type": "code",
   "execution_count": 5,
   "metadata": {},
   "outputs": [],
   "source": [
    "import os\n",
    "input_dir = '/home/user_219/omer_gil/BoT-SORT/best_images_parts_embeddings/2'\n",
    "a = list(map(int,sorted(os.listdir(input_dir), key=int)))"
   ]
  },
  {
   "cell_type": "code",
   "execution_count": 8,
   "metadata": {},
   "outputs": [
    {
     "data": {
      "text/plain": [
       "['1',\n",
       " '2',\n",
       " '5',\n",
       " '6',\n",
       " '7',\n",
       " '8',\n",
       " '12',\n",
       " '13',\n",
       " '14',\n",
       " '16',\n",
       " '20',\n",
       " '21',\n",
       " '23',\n",
       " '24',\n",
       " '25',\n",
       " '29',\n",
       " '31',\n",
       " '34',\n",
       " '35',\n",
       " '36',\n",
       " '38',\n",
       " '39',\n",
       " '44',\n",
       " '47',\n",
       " '49',\n",
       " '53',\n",
       " '54',\n",
       " '55',\n",
       " '56',\n",
       " '57',\n",
       " '58',\n",
       " '59',\n",
       " '61']"
      ]
     },
     "execution_count": 8,
     "metadata": {},
     "output_type": "execute_result"
    }
   ],
   "source": []
  },
  {
   "cell_type": "code",
   "execution_count": 32,
   "metadata": {},
   "outputs": [
    {
     "data": {
      "text/plain": [
       "16"
      ]
     },
     "execution_count": 32,
     "metadata": {},
     "output_type": "execute_result"
    }
   ],
   "source": [
    "len(ground_truth)"
   ]
  },
  {
   "cell_type": "code",
   "execution_count": 33,
   "metadata": {},
   "outputs": [],
   "source": [
    "def remap_array(arr):\n",
    "    # Get the unique numbers in the array and sort them\n",
    "    unique_sorted = sorted(set(arr))\n",
    "\n",
    "    mapping = {}\n",
    "    for num in arr:\n",
    "        if num not in mapping:\n",
    "            mapping[num] = unique_sorted[0]\n",
    "            unique_sorted = unique_sorted[1:]\n",
    "        \n",
    "    # Remap the array using the mapping\n",
    "    remapped_arr = [mapping[num] for num in arr]\n",
    "    \n",
    "    return remapped_arr"
   ]
  },
  {
   "cell_type": "code",
   "execution_count": 34,
   "metadata": {},
   "outputs": [],
   "source": [
    "input_dir = '/home/user_219/omer_gil/BoT-SORT/best_images_parts_embeddings/1'\n",
    "heads = []\n",
    "upper = []\n",
    "shoes_r = []\n",
    "shoes_l = []\n",
    "for dir in sorted(os.listdir(input_dir), key=int):\n",
    "    path = os.path.join(input_dir, dir,\"features.npy\")\n",
    "    features = np.load(path)\n",
    "    heads.append(features[0])\n",
    "    upper.append(features[1])\n",
    "    shoes_r.append(features[2])\n",
    "    shoes_l.append(features[2])\n",
    "heads = np.array(heads)\n",
    "upper = np.array(upper)\n",
    "shoes_r = np.array(shoes_r)\n",
    "shoes_l = np.array(shoes_l)"
   ]
  },
  {
   "cell_type": "code",
   "execution_count": 35,
   "metadata": {},
   "outputs": [
    {
     "data": {
      "text/plain": [
       "(16, 16, 16, 16)"
      ]
     },
     "execution_count": 35,
     "metadata": {},
     "output_type": "execute_result"
    }
   ],
   "source": [
    "len(heads), len(upper), len(shoes_r), len(shoes_l)"
   ]
  },
  {
   "cell_type": "code",
   "execution_count": 36,
   "metadata": {},
   "outputs": [
    {
     "name": "stdout",
     "output_type": "stream",
     "text": [
      "Cluster assignments: [0, 1, 1, 2, 1, 0, 1, 2, 3, 3, 4, 1, 4, 5, 1, 1]\n",
      "Cluster assignments: [0, 1, 2, 3, 4, 2, 0, 3, 3, 3, 0, 1, 3, 5, 1, 2]\n",
      "Cluster assignments: [0, 1, 2, 1, 2, 3, 4, 1, 5, 4, 0, 1, 3, 5, 5, 1]\n",
      "Cluster assignments: [0, 1, 2, 1, 2, 3, 4, 1, 5, 4, 0, 1, 3, 5, 5, 1]\n",
      "[1, 0, 2, 3, 1, 1, 4, 4, 1, 1, 1, 0, 1, 0, 4, 0]\n"
     ]
    }
   ],
   "source": [
    "import numpy as np\n",
    "from sklearn.cluster import KMeans\n",
    "from sklearn.preprocessing import normalize\n",
    "\n",
    "def Kmeans(data):\n",
    "    # Normalize the data to unit vectors\n",
    "    normalized_data = normalize(data, norm='l2')\n",
    "\n",
    "    # Create a KMeans instance with 4 clusters, using KMeans++ for initialization\n",
    "    kmeans = KMeans(n_clusters=6, init='k-means++', random_state=42)\n",
    "\n",
    "    # Fit the model on the normalized data\n",
    "    kmeans.fit(normalized_data)\n",
    "\n",
    "    # Predict the clusters\n",
    "    clusters = kmeans.predict(normalized_data)\n",
    "\n",
    "    # Output the clusters each data point belongs to\n",
    "    print(\"Cluster assignments:\", remap_array(clusters))\n",
    "    return clusters\n",
    "\n",
    "heads_clusters = Kmeans(heads.reshape(16, 1600 * 768))\n",
    "upper_clusters = Kmeans(upper.reshape(16, 1600 * 768))\n",
    "shoes_r_clusters = Kmeans(shoes_r.reshape(16, 1600 * 768))\n",
    "shoes_l_clusters = Kmeans(shoes_l.reshape(16, 1600 * 768))\n",
    "print(ground_truth)\n"
   ]
  },
  {
   "cell_type": "code",
   "execution_count": 37,
   "metadata": {},
   "outputs": [
    {
     "name": "stdout",
     "output_type": "stream",
     "text": [
      "[0, 1, 1, 2, 1, 0, 1, 2, 3, 3, 4, 1, 4, 5, 1, 1]\n",
      "[0, 1, 2, 1, 2, 3, 4, 1, 5, 4, 0, 1, 3, 5, 5, 1]\n",
      "[0, 1, 2, 1, 2, 3, 4, 1, 5, 4, 0, 1, 3, 5, 5, 1]\n",
      "0, -1, 1, 2, 0, 0, 3, 3, 0, 0, 0, -1, 0, -1, 3, -1\n"
     ]
    }
   ],
   "source": [
    "print(remap_array(heads_clusters))\n",
    "# print(remap_array(upper_clusters))\n",
    "print(remap_array(shoes_r_clusters))\n",
    "print(remap_array(shoes_l_clusters))\n",
    "print(', '.join(map(str, np.array(ground_truth) -1)))"
   ]
  },
  {
   "cell_type": "code",
   "execution_count": null,
   "metadata": {},
   "outputs": [
    {
     "name": "stdout",
     "output_type": "stream",
     "text": [
      "[0, 1, 1, 2, 1, 0, 1, 2, 3, 3, 4, 1, 4, 2, 1, 1]\n",
      "[0, 1, 2, 1, 2, 2, 2, 3, 3, 2, 0, 1, 2, 4, 4, 1]\n",
      "[0, 1, 2, 1, 2, 2, 2, 3, 3, 2, 0, 1, 2, 4, 4, 1]\n",
      "0, -1, 1, 2, 0, 0, 3, 3, 0, 0, 0, -1, 0, -1, 3, -1\n"
     ]
    }
   ],
   "source": [
    "print(remap_array(heads_clusters))\n",
    "# print(remap_array(upper_clusters))\n",
    "print(remap_array(shoes_r_clusters))\n",
    "print(remap_array(shoes_l_clusters))\n",
    "print(', '.join(map(str, np.array(ground_truth) -1)))"
   ]
  },
  {
   "cell_type": "code",
   "execution_count": 38,
   "metadata": {},
   "outputs": [
    {
     "name": "stdout",
     "output_type": "stream",
     "text": [
      "Cluster assignments: [0, 1, 1, 0, 1, 0, 1, 0, 2, 2, 3, 1, 3, 4, 1, 1]\n",
      "Cluster assignments: [0, 1, 2, 2, 3, 2, 4, 2, 2, 2, 0, 1, 2, 0, 1, 2]\n",
      "Cluster assignments: [0, 1, 0, 0, 0, 0, 0, 0, 2, 0, 3, 4, 0, 2, 2, 1]\n",
      "Cluster assignments: [0, 1, 0, 0, 0, 0, 0, 0, 2, 0, 3, 4, 0, 2, 2, 1]\n"
     ]
    }
   ],
   "source": [
    "import numpy as np\n",
    "from sklearn.metrics.pairwise import cosine_similarity\n",
    "from sklearn.cluster import AgglomerativeClustering\n",
    "\n",
    "\n",
    "def cluster(data):\n",
    "    # Compute the cosine similarity matrix\n",
    "    cosine_sim_matrix = cosine_similarity(data)\n",
    "\n",
    "    # Convert similarity to distance\n",
    "    cosine_dist_matrix = 1 - cosine_sim_matrix\n",
    "\n",
    "    # Create an Agglomerative Clustering model that uses the precomputed distance matrix\n",
    "    cluster = AgglomerativeClustering(n_clusters=5, affinity='precomputed', linkage='average')\n",
    "    # cluster = AgglomerativeClustering( affinity='precomputed', linkage='average')\n",
    "\n",
    "    # Fit model to the distance matrix\n",
    "    clusters = cluster.fit_predict(cosine_dist_matrix)\n",
    "\n",
    "    # Output the clusters each data point belongs to\n",
    "    print(\"Cluster assignments:\", remap_array(clusters))\n",
    "    return remap_array(clusters)\n",
    "clustering_heads = cluster(heads.reshape(16, 1600 * 768))\n",
    "clustering_upper = cluster(upper.reshape(16, 1600 * 768))\n",
    "shoes_r_clusters = cluster(shoes_r.reshape(16, 1600 * 768))\n",
    "shoes_l_clusters = cluster(shoes_l.reshape(16, 1600 * 768))\n",
    "\n",
    "# clustering_heads = AgglomerativeClustering(distance_threshold=80,n_clusters=None).fit(heads.reshape(21, 1600 * 768))\n",
    "# clustering_upper = AgglomerativeClustering(distance_threshold=80,n_clusters=None).fit(upper.reshape(21, 1600 * 768))\n",
    "# clustering_shoes = AgglomerativeClustering(distance_threshold=80,n_clusters=None).fit(shoes.reshape(21, 1600 * 768))\n"
   ]
  },
  {
   "cell_type": "code",
   "execution_count": 39,
   "metadata": {},
   "outputs": [
    {
     "name": "stdout",
     "output_type": "stream",
     "text": [
      "[0, 1, 1, 0, 1, 0, 1, 0, 2, 2, 3, 1, 3, 4, 1, 1]\n",
      "[0, 1, 2, 2, 3, 2, 4, 2, 2, 2, 0, 1, 2, 0, 1, 2]\n",
      "[0, 1, 0, 0, 0, 0, 0, 0, 2, 0, 3, 4, 0, 2, 2, 1]\n",
      "[0, 1, 0, 0, 0, 0, 0, 0, 2, 0, 3, 4, 0, 2, 2, 1]\n",
      "0, -1, 1, 2, 0, 0, 3, 3, 0, 0, 0, -1, 0, -1, 3, -1\n"
     ]
    }
   ],
   "source": [
    "\n",
    "print(clustering_heads)\n",
    "print(clustering_upper)\n",
    "print(shoes_r_clusters)\n",
    "print(shoes_l_clusters)\n",
    "print(', '.join(map(str, np.array(ground_truth) -1)))\n"
   ]
  },
  {
   "cell_type": "code",
   "execution_count": 42,
   "metadata": {},
   "outputs": [
    {
     "name": "stdout",
     "output_type": "stream",
     "text": [
      "0 0 0\n",
      "1 1 1\n",
      "0 2 2\n",
      "2 3 3\n",
      "3 4 4\n",
      "0 5 5\n",
      "4 6 6\n",
      "0 7 7\n",
      "5 8 8\n",
      "6 9 8\n",
      "7 10 8\n",
      "8 11 9\n",
      "0 12 10\n",
      "9 13 11\n",
      "10 14 8\n",
      "11 15 12\n",
      "12 16 13\n",
      "13 17 14\n",
      "14 18 15\n",
      "0 19 8\n",
      "15 20 16\n"
     ]
    }
   ],
   "source": [
    "a=remap_array(clustering_heads.labels_)\n",
    "b=remap_array(clustering_upper.labels_)\n",
    "c=remap_array(clustering_shoes.labels_)\n",
    "for i in range(21):\n",
    "    print(a[i],b[i],c[i])\n",
    "\n",
    "\n"
   ]
  },
  {
   "cell_type": "code",
   "execution_count": 22,
   "metadata": {},
   "outputs": [
    {
     "data": {
      "text/plain": [
       "array([ 0, 11,  0,  8, 13,  0, 15,  0,  9, 14, 12, 10,  0,  5,  6,  7,  3,\n",
       "        4,  1,  0,  2])"
      ]
     },
     "execution_count": 22,
     "metadata": {},
     "output_type": "execute_result"
    }
   ],
   "source": [
    "clustering.labels_"
   ]
  },
  {
   "cell_type": "code",
   "execution_count": 14,
   "metadata": {},
   "outputs": [
    {
     "data": {
      "text/plain": [
       "array([[ 3.2287986 ,  0.45867094,  1.3736802 , ..., -0.23640008,\n",
       "         0.93399197, -2.1161773 ],\n",
       "       [ 3.4706018 , -0.2221838 ,  1.1400833 , ..., -0.23340522,\n",
       "         1.0758767 , -2.9382463 ],\n",
       "       [ 3.5105214 , -2.3424265 , -1.7820073 , ..., -1.1882707 ,\n",
       "        -0.76799697, -3.3912196 ],\n",
       "       ...,\n",
       "       [ 2.4713593 ,  3.4192903 ,  1.4926487 , ...,  0.02191871,\n",
       "        -1.9690161 ,  0.41913792],\n",
       "       [ 2.20063   ,  0.2385513 , -0.58404046, ...,  0.15117496,\n",
       "         0.14676309, -1.6007402 ],\n",
       "       [ 2.4690068 , -0.19914155,  0.07684889, ..., -0.06813555,\n",
       "        -0.09314284, -1.6499184 ]], dtype=float32)"
      ]
     },
     "execution_count": 14,
     "metadata": {},
     "output_type": "execute_result"
    }
   ],
   "source": [
    "heads[1]"
   ]
  },
  {
   "cell_type": "code",
   "execution_count": 15,
   "metadata": {},
   "outputs": [
    {
     "data": {
      "text/plain": [
       "array([[ 1.1438075 , -2.1969113 , -0.83005995, ..., -1.0722204 ,\n",
       "        -1.24343   , -0.01209161],\n",
       "       [ 1.1134405 , -2.2205548 , -0.8173429 , ..., -1.1128546 ,\n",
       "        -1.3035482 ,  0.03927336],\n",
       "       [ 1.6596313 , -3.4989223 , -2.6044834 , ..., -1.7516901 ,\n",
       "        -1.113846  ,  0.79138356],\n",
       "       ...,\n",
       "       [ 2.5161543 , -2.9868627 , -4.0463185 , ..., -1.9385047 ,\n",
       "        -1.1112903 ,  1.0280489 ],\n",
       "       [ 3.4570374 , -3.3327248 , -4.1776085 , ..., -2.2550433 ,\n",
       "        -0.38078147, -0.25140765],\n",
       "       [ 3.2726593 , -3.6322274 , -3.7357962 , ..., -2.467514  ,\n",
       "        -0.4626041 , -0.70267695]], dtype=float32)"
      ]
     },
     "execution_count": 15,
     "metadata": {},
     "output_type": "execute_result"
    }
   ],
   "source": [
    "heads[2]"
   ]
  },
  {
   "cell_type": "code",
   "execution_count": 16,
   "metadata": {},
   "outputs": [
    {
     "data": {
      "text/plain": [
       "array([[ 1.1438041 , -2.1969023 , -0.83004695, ..., -1.0722181 ,\n",
       "        -1.243423  , -0.0120911 ],\n",
       "       [ 1.1134411 , -2.220555  , -0.8173449 , ..., -1.112855  ,\n",
       "        -1.3035468 ,  0.03927228],\n",
       "       [ 1.6596276 , -3.498918  , -2.6044838 , ..., -1.751687  ,\n",
       "        -1.1138479 ,  0.7913776 ],\n",
       "       ...,\n",
       "       [ 2.5161572 , -2.9868665 , -4.04632   , ..., -1.9385026 ,\n",
       "        -1.1112881 ,  1.0280421 ],\n",
       "       [ 3.4570343 , -3.3327248 , -4.1776137 , ..., -2.2550437 ,\n",
       "        -0.3807817 , -0.25140706],\n",
       "       [ 3.2726576 , -3.6322331 , -3.7357922 , ..., -2.467513  ,\n",
       "        -0.4626092 , -0.70268315]], dtype=float32)"
      ]
     },
     "execution_count": 16,
     "metadata": {},
     "output_type": "execute_result"
    }
   ],
   "source": [
    "heads[5]\n"
   ]
  },
  {
   "cell_type": "code",
   "execution_count": 17,
   "metadata": {},
   "outputs": [
    {
     "name": "stdout",
     "output_type": "stream",
     "text": [
      "[0, 1, 0, 2, 2, 0, 2, 0, 2, 3, 3, 4, 0, 2, 1, 2, 0, 2, 3, 0, 3]\n",
      "[0, 1, 2, 3, 2, 0, 3, 2, 4, 4, 4, 4, 1, 3, 4, 3, 3, 3, 3, 4, 2]\n",
      "[0, 1, 2, 3, 1, 1, 1, 1, 4, 1, 4, 2, 3, 2, 1, 1, 3, 3, 1, 2, 2]\n"
     ]
    }
   ],
   "source": [
    "def cluster_cosine(data):\n",
    "    cluster = AgglomerativeClustering(distance_threshold = None,n_clusters = 5)\n",
    "    # cluster = AgglomerativeClustering(n_clusters = 5, metric='cosine',distance_threshold = None,linkage='average')\n",
    "    # Fit model to the distance matrix\n",
    "    clusters = cluster.fit_predict(data)\n",
    "    return clusters\n",
    "\n",
    "clustering_heads = cluster_cosine(heads.reshape(21, 1600 * 768))\n",
    "clustering_upper = cluster_cosine(upper.reshape(21, 1600 * 768))\n",
    "clustering_shoes = cluster_cosine(shoes.reshape(21, 1600 * 768))\n",
    "print(remap_array(clustering_heads))\n",
    "# print(remap_array(clustering_upper))\n",
    "print(remap_array(clustering_shoes))\n",
    "print(ground_truth)"
   ]
  }
 ],
 "metadata": {
  "kernelspec": {
   "display_name": "mmyolo",
   "language": "python",
   "name": "python3"
  },
  "language_info": {
   "codemirror_mode": {
    "name": "ipython",
    "version": 3
   },
   "file_extension": ".py",
   "mimetype": "text/x-python",
   "name": "python",
   "nbconvert_exporter": "python",
   "pygments_lexer": "ipython3",
   "version": "3.8.17"
  }
 },
 "nbformat": 4,
 "nbformat_minor": 2
}
